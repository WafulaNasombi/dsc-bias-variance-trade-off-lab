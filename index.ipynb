{
 "cells": [
  {
   "cell_type": "markdown",
   "metadata": {},
   "source": [
    "# Bias-Variance Tradeoff - Lab"
   ]
  },
  {
   "cell_type": "markdown",
   "metadata": {},
   "source": [
    "## Introduction"
   ]
  },
  {
   "cell_type": "markdown",
   "metadata": {},
   "source": [
    "In this lab, you'll practice the concepts you learned in the last lesson, bias-variance tradeoff. "
   ]
  },
  {
   "cell_type": "markdown",
   "metadata": {},
   "source": [
    "## Objectives"
   ]
  },
  {
   "cell_type": "markdown",
   "metadata": {},
   "source": [
    "In this lab you will: \n",
    "\n",
    "- Demonstrate the tradeoff between bias and variance by way of fitting a machine learning model "
   ]
  },
  {
   "cell_type": "markdown",
   "metadata": {},
   "source": [
    "## Let's get started!"
   ]
  },
  {
   "cell_type": "markdown",
   "metadata": {},
   "source": [
    "In this lab, you'll try to predict some movie revenues based on certain factors, such as ratings and movie year. Start by running the following cell which imports all the necessary functions and the dataset: "
   ]
  },
  {
   "cell_type": "code",
   "execution_count": 61,
   "metadata": {},
   "outputs": [
    {
     "data": {
      "text/html": [
       "<div>\n",
       "<style scoped>\n",
       "    .dataframe tbody tr th:only-of-type {\n",
       "        vertical-align: middle;\n",
       "    }\n",
       "\n",
       "    .dataframe tbody tr th {\n",
       "        vertical-align: top;\n",
       "    }\n",
       "\n",
       "    .dataframe thead th {\n",
       "        text-align: right;\n",
       "    }\n",
       "</style>\n",
       "<table border=\"1\" class=\"dataframe\">\n",
       "  <thead>\n",
       "    <tr style=\"text-align: right;\">\n",
       "      <th></th>\n",
       "      <th>Unnamed: 0</th>\n",
       "      <th>budget</th>\n",
       "      <th>domgross</th>\n",
       "      <th>title</th>\n",
       "      <th>Response_Json</th>\n",
       "      <th>Year</th>\n",
       "      <th>imdbRating</th>\n",
       "      <th>Metascore</th>\n",
       "      <th>imdbVotes</th>\n",
       "      <th>Model</th>\n",
       "    </tr>\n",
       "  </thead>\n",
       "  <tbody>\n",
       "    <tr>\n",
       "      <th>0</th>\n",
       "      <td>0</td>\n",
       "      <td>13000000</td>\n",
       "      <td>25682380</td>\n",
       "      <td>21 &amp;amp; Over</td>\n",
       "      <td>0</td>\n",
       "      <td>2008</td>\n",
       "      <td>6.8</td>\n",
       "      <td>48</td>\n",
       "      <td>206513</td>\n",
       "      <td>4.912759e+07</td>\n",
       "    </tr>\n",
       "    <tr>\n",
       "      <th>1</th>\n",
       "      <td>1</td>\n",
       "      <td>45658735</td>\n",
       "      <td>13414714</td>\n",
       "      <td>Dredd 3D</td>\n",
       "      <td>0</td>\n",
       "      <td>2012</td>\n",
       "      <td>0.0</td>\n",
       "      <td>0</td>\n",
       "      <td>0</td>\n",
       "      <td>2.267265e+05</td>\n",
       "    </tr>\n",
       "    <tr>\n",
       "      <th>2</th>\n",
       "      <td>2</td>\n",
       "      <td>20000000</td>\n",
       "      <td>53107035</td>\n",
       "      <td>12 Years a Slave</td>\n",
       "      <td>0</td>\n",
       "      <td>2013</td>\n",
       "      <td>8.1</td>\n",
       "      <td>96</td>\n",
       "      <td>537525</td>\n",
       "      <td>1.626624e+08</td>\n",
       "    </tr>\n",
       "    <tr>\n",
       "      <th>3</th>\n",
       "      <td>3</td>\n",
       "      <td>61000000</td>\n",
       "      <td>75612460</td>\n",
       "      <td>2 Guns</td>\n",
       "      <td>0</td>\n",
       "      <td>2013</td>\n",
       "      <td>6.7</td>\n",
       "      <td>55</td>\n",
       "      <td>173726</td>\n",
       "      <td>7.723381e+07</td>\n",
       "    </tr>\n",
       "    <tr>\n",
       "      <th>4</th>\n",
       "      <td>4</td>\n",
       "      <td>40000000</td>\n",
       "      <td>95020213</td>\n",
       "      <td>42</td>\n",
       "      <td>0</td>\n",
       "      <td>2013</td>\n",
       "      <td>7.5</td>\n",
       "      <td>62</td>\n",
       "      <td>74170</td>\n",
       "      <td>4.151958e+07</td>\n",
       "    </tr>\n",
       "  </tbody>\n",
       "</table>\n",
       "</div>"
      ],
      "text/plain": [
       "   Unnamed: 0    budget  domgross             title  Response_Json  Year  \\\n",
       "0           0  13000000  25682380     21 &amp; Over              0  2008   \n",
       "1           1  45658735  13414714          Dredd 3D              0  2012   \n",
       "2           2  20000000  53107035  12 Years a Slave              0  2013   \n",
       "3           3  61000000  75612460            2 Guns              0  2013   \n",
       "4           4  40000000  95020213                42              0  2013   \n",
       "\n",
       "   imdbRating  Metascore  imdbVotes         Model  \n",
       "0         6.8         48     206513  4.912759e+07  \n",
       "1         0.0          0          0  2.267265e+05  \n",
       "2         8.1         96     537525  1.626624e+08  \n",
       "3         6.7         55     173726  7.723381e+07  \n",
       "4         7.5         62      74170  4.151958e+07  "
      ]
     },
     "execution_count": 61,
     "metadata": {},
     "output_type": "execute_result"
    }
   ],
   "source": [
    "import numpy as np\n",
    "import pandas as pd\n",
    "from sklearn.preprocessing import MinMaxScaler\n",
    "from sklearn.model_selection import train_test_split\n",
    "from sklearn.metrics import mean_squared_error\n",
    "from sklearn.preprocessing import PolynomialFeatures\n",
    "from sklearn.linear_model import LinearRegression\n",
    "import matplotlib.pyplot as plt\n",
    "%matplotlib inline\n",
    "\n",
    "df = pd.read_excel('movie_data_detailed_with_ols.xlsx')\n",
    "df.head()"
   ]
  },
  {
   "cell_type": "markdown",
   "metadata": {},
   "source": [
    "Subset the `df` DataFrame to only keep the `'domgross'`, `'budget'`, `'imdbRating'`, `'Metascore'`, and `'imdbVotes'` columns. "
   ]
  },
  {
   "cell_type": "code",
   "execution_count": 62,
   "metadata": {},
   "outputs": [
    {
     "data": {
      "text/html": [
       "<div>\n",
       "<style scoped>\n",
       "    .dataframe tbody tr th:only-of-type {\n",
       "        vertical-align: middle;\n",
       "    }\n",
       "\n",
       "    .dataframe tbody tr th {\n",
       "        vertical-align: top;\n",
       "    }\n",
       "\n",
       "    .dataframe thead th {\n",
       "        text-align: right;\n",
       "    }\n",
       "</style>\n",
       "<table border=\"1\" class=\"dataframe\">\n",
       "  <thead>\n",
       "    <tr style=\"text-align: right;\">\n",
       "      <th></th>\n",
       "      <th>domgross</th>\n",
       "      <th>budget</th>\n",
       "      <th>imdbRating</th>\n",
       "      <th>Metascore</th>\n",
       "      <th>imdbVotes</th>\n",
       "    </tr>\n",
       "  </thead>\n",
       "  <tbody>\n",
       "    <tr>\n",
       "      <th>0</th>\n",
       "      <td>25682380</td>\n",
       "      <td>13000000</td>\n",
       "      <td>6.8</td>\n",
       "      <td>48</td>\n",
       "      <td>206513</td>\n",
       "    </tr>\n",
       "    <tr>\n",
       "      <th>1</th>\n",
       "      <td>13414714</td>\n",
       "      <td>45658735</td>\n",
       "      <td>0.0</td>\n",
       "      <td>0</td>\n",
       "      <td>0</td>\n",
       "    </tr>\n",
       "    <tr>\n",
       "      <th>2</th>\n",
       "      <td>53107035</td>\n",
       "      <td>20000000</td>\n",
       "      <td>8.1</td>\n",
       "      <td>96</td>\n",
       "      <td>537525</td>\n",
       "    </tr>\n",
       "    <tr>\n",
       "      <th>3</th>\n",
       "      <td>75612460</td>\n",
       "      <td>61000000</td>\n",
       "      <td>6.7</td>\n",
       "      <td>55</td>\n",
       "      <td>173726</td>\n",
       "    </tr>\n",
       "    <tr>\n",
       "      <th>4</th>\n",
       "      <td>95020213</td>\n",
       "      <td>40000000</td>\n",
       "      <td>7.5</td>\n",
       "      <td>62</td>\n",
       "      <td>74170</td>\n",
       "    </tr>\n",
       "    <tr>\n",
       "      <th>5</th>\n",
       "      <td>38362475</td>\n",
       "      <td>225000000</td>\n",
       "      <td>6.3</td>\n",
       "      <td>28</td>\n",
       "      <td>128766</td>\n",
       "    </tr>\n",
       "    <tr>\n",
       "      <th>6</th>\n",
       "      <td>67349198</td>\n",
       "      <td>92000000</td>\n",
       "      <td>5.3</td>\n",
       "      <td>28</td>\n",
       "      <td>180585</td>\n",
       "    </tr>\n",
       "    <tr>\n",
       "      <th>7</th>\n",
       "      <td>15323921</td>\n",
       "      <td>12000000</td>\n",
       "      <td>7.8</td>\n",
       "      <td>55</td>\n",
       "      <td>240087</td>\n",
       "    </tr>\n",
       "    <tr>\n",
       "      <th>8</th>\n",
       "      <td>18007317</td>\n",
       "      <td>13000000</td>\n",
       "      <td>5.7</td>\n",
       "      <td>48</td>\n",
       "      <td>30576</td>\n",
       "    </tr>\n",
       "    <tr>\n",
       "      <th>9</th>\n",
       "      <td>60522097</td>\n",
       "      <td>130000000</td>\n",
       "      <td>4.9</td>\n",
       "      <td>33</td>\n",
       "      <td>174365</td>\n",
       "    </tr>\n",
       "    <tr>\n",
       "      <th>10</th>\n",
       "      <td>148430908</td>\n",
       "      <td>40000000</td>\n",
       "      <td>7.3</td>\n",
       "      <td>90</td>\n",
       "      <td>398390</td>\n",
       "    </tr>\n",
       "    <tr>\n",
       "      <th>11</th>\n",
       "      <td>37304874</td>\n",
       "      <td>25000000</td>\n",
       "      <td>7.2</td>\n",
       "      <td>58</td>\n",
       "      <td>75884</td>\n",
       "    </tr>\n",
       "    <tr>\n",
       "      <th>12</th>\n",
       "      <td>19452138</td>\n",
       "      <td>50000000</td>\n",
       "      <td>6.2</td>\n",
       "      <td>52</td>\n",
       "      <td>76001</td>\n",
       "    </tr>\n",
       "    <tr>\n",
       "      <th>13</th>\n",
       "      <td>33345833</td>\n",
       "      <td>18000000</td>\n",
       "      <td>7.3</td>\n",
       "      <td>78</td>\n",
       "      <td>170986</td>\n",
       "    </tr>\n",
       "    <tr>\n",
       "      <th>14</th>\n",
       "      <td>107136417</td>\n",
       "      <td>55000000</td>\n",
       "      <td>7.8</td>\n",
       "      <td>83</td>\n",
       "      <td>368244</td>\n",
       "    </tr>\n",
       "    <tr>\n",
       "      <th>15</th>\n",
       "      <td>35266619</td>\n",
       "      <td>30000000</td>\n",
       "      <td>7.4</td>\n",
       "      <td>85</td>\n",
       "      <td>142328</td>\n",
       "    </tr>\n",
       "    <tr>\n",
       "      <th>16</th>\n",
       "      <td>119640264</td>\n",
       "      <td>78000000</td>\n",
       "      <td>6.4</td>\n",
       "      <td>59</td>\n",
       "      <td>75138</td>\n",
       "    </tr>\n",
       "    <tr>\n",
       "      <th>17</th>\n",
       "      <td>368065385</td>\n",
       "      <td>76000000</td>\n",
       "      <td>7.4</td>\n",
       "      <td>62</td>\n",
       "      <td>324664</td>\n",
       "    </tr>\n",
       "    <tr>\n",
       "      <th>18</th>\n",
       "      <td>24477704</td>\n",
       "      <td>5500000</td>\n",
       "      <td>6.6</td>\n",
       "      <td>66</td>\n",
       "      <td>208948</td>\n",
       "    </tr>\n",
       "    <tr>\n",
       "      <th>19</th>\n",
       "      <td>93050117</td>\n",
       "      <td>120000000</td>\n",
       "      <td>6.6</td>\n",
       "      <td>61</td>\n",
       "      <td>378131</td>\n",
       "    </tr>\n",
       "    <tr>\n",
       "      <th>20</th>\n",
       "      <td>61737191</td>\n",
       "      <td>110000000</td>\n",
       "      <td>0.0</td>\n",
       "      <td>0</td>\n",
       "      <td>0</td>\n",
       "    </tr>\n",
       "    <tr>\n",
       "      <th>21</th>\n",
       "      <td>107518682</td>\n",
       "      <td>100000000</td>\n",
       "      <td>6.7</td>\n",
       "      <td>52</td>\n",
       "      <td>92389</td>\n",
       "    </tr>\n",
       "    <tr>\n",
       "      <th>22</th>\n",
       "      <td>57012977</td>\n",
       "      <td>40000000</td>\n",
       "      <td>5.9</td>\n",
       "      <td>35</td>\n",
       "      <td>22430</td>\n",
       "    </tr>\n",
       "    <tr>\n",
       "      <th>23</th>\n",
       "      <td>25213103</td>\n",
       "      <td>70000000</td>\n",
       "      <td>6.7</td>\n",
       "      <td>49</td>\n",
       "      <td>198767</td>\n",
       "    </tr>\n",
       "    <tr>\n",
       "      <th>24</th>\n",
       "      <td>54239856</td>\n",
       "      <td>17000000</td>\n",
       "      <td>6.5</td>\n",
       "      <td>57</td>\n",
       "      <td>139940</td>\n",
       "    </tr>\n",
       "    <tr>\n",
       "      <th>25</th>\n",
       "      <td>238679850</td>\n",
       "      <td>160000000</td>\n",
       "      <td>0.0</td>\n",
       "      <td>0</td>\n",
       "      <td>0</td>\n",
       "    </tr>\n",
       "    <tr>\n",
       "      <th>26</th>\n",
       "      <td>393050114</td>\n",
       "      <td>150000000</td>\n",
       "      <td>7.5</td>\n",
       "      <td>74</td>\n",
       "      <td>483555</td>\n",
       "    </tr>\n",
       "    <tr>\n",
       "      <th>27</th>\n",
       "      <td>122523060</td>\n",
       "      <td>140000000</td>\n",
       "      <td>5.8</td>\n",
       "      <td>41</td>\n",
       "      <td>158210</td>\n",
       "    </tr>\n",
       "    <tr>\n",
       "      <th>28</th>\n",
       "      <td>46000903</td>\n",
       "      <td>60000000</td>\n",
       "      <td>6.7</td>\n",
       "      <td>40</td>\n",
       "      <td>188846</td>\n",
       "    </tr>\n",
       "    <tr>\n",
       "      <th>29</th>\n",
       "      <td>4167493</td>\n",
       "      <td>30000000</td>\n",
       "      <td>7.1</td>\n",
       "      <td>0</td>\n",
       "      <td>0</td>\n",
       "    </tr>\n",
       "  </tbody>\n",
       "</table>\n",
       "</div>"
      ],
      "text/plain": [
       "     domgross     budget  imdbRating  Metascore  imdbVotes\n",
       "0    25682380   13000000         6.8         48     206513\n",
       "1    13414714   45658735         0.0          0          0\n",
       "2    53107035   20000000         8.1         96     537525\n",
       "3    75612460   61000000         6.7         55     173726\n",
       "4    95020213   40000000         7.5         62      74170\n",
       "5    38362475  225000000         6.3         28     128766\n",
       "6    67349198   92000000         5.3         28     180585\n",
       "7    15323921   12000000         7.8         55     240087\n",
       "8    18007317   13000000         5.7         48      30576\n",
       "9    60522097  130000000         4.9         33     174365\n",
       "10  148430908   40000000         7.3         90     398390\n",
       "11   37304874   25000000         7.2         58      75884\n",
       "12   19452138   50000000         6.2         52      76001\n",
       "13   33345833   18000000         7.3         78     170986\n",
       "14  107136417   55000000         7.8         83     368244\n",
       "15   35266619   30000000         7.4         85     142328\n",
       "16  119640264   78000000         6.4         59      75138\n",
       "17  368065385   76000000         7.4         62     324664\n",
       "18   24477704    5500000         6.6         66     208948\n",
       "19   93050117  120000000         6.6         61     378131\n",
       "20   61737191  110000000         0.0          0          0\n",
       "21  107518682  100000000         6.7         52      92389\n",
       "22   57012977   40000000         5.9         35      22430\n",
       "23   25213103   70000000         6.7         49     198767\n",
       "24   54239856   17000000         6.5         57     139940\n",
       "25  238679850  160000000         0.0          0          0\n",
       "26  393050114  150000000         7.5         74     483555\n",
       "27  122523060  140000000         5.8         41     158210\n",
       "28   46000903   60000000         6.7         40     188846\n",
       "29    4167493   30000000         7.1          0          0"
      ]
     },
     "execution_count": 62,
     "metadata": {},
     "output_type": "execute_result"
    }
   ],
   "source": [
    "# Subset the DataFrame\n",
    "df_reduced_columns = df[['domgross','budget', 'imdbRating', 'Metascore','imdbVotes']]\n",
    "df_reduced_columns"
   ]
  },
  {
   "cell_type": "markdown",
   "metadata": {},
   "source": [
    "## Split the data\n",
    "\n",
    "\n",
    "- First, assign the predictors to `X` and the outcome variable, `'domgross'` to `y` \n",
    "- Split the data into training and test sets. Set the seed to 42 and the `test_size` to 0.25 "
   ]
  },
  {
   "cell_type": "code",
   "execution_count": 63,
   "metadata": {},
   "outputs": [],
   "source": [
    "# domgross is the outcome variable\n",
    "X = df_reduced_columns.drop('domgross',axis=1)\n",
    "y = df_reduced_columns['domgross']\n",
    "\n",
    "X_train , X_test, y_train, y_test = train_test_split(X,y, test_size=0.25, random_state=42)"
   ]
  },
  {
   "cell_type": "code",
   "execution_count": 64,
   "metadata": {},
   "outputs": [],
   "source": [
    "# create a scaler\n",
    "scaler = MinMaxScaler()"
   ]
  },
  {
   "cell_type": "markdown",
   "metadata": {},
   "source": [
    "Use the `MinMaxScaler` to scale the training set. Remember you can fit and transform in a single method using `.fit_transform()`.  \n",
    "\n",
    "Then, use `.transform()` to apply the scaler to the test set."
   ]
  },
  {
   "cell_type": "code",
   "execution_count": 65,
   "metadata": {},
   "outputs": [],
   "source": [
    "# fit and transform X_train\n",
    "# X_train_scaled = scaler.fit_transform(X_train)\n",
    "X_train_scaled = scaler.fit_transform(X_train)\n",
    "\n",
    "# transform X_test\n",
    "X_test_scaled = scaler.fit_transform(X_test)"
   ]
  },
  {
   "cell_type": "markdown",
   "metadata": {},
   "source": [
    "## Fit a regression model to the training data"
   ]
  },
  {
   "cell_type": "code",
   "execution_count": 66,
   "metadata": {},
   "outputs": [
    {
     "data": {
      "text/html": [
       "<style>#sk-container-id-2 {color: black;}#sk-container-id-2 pre{padding: 0;}#sk-container-id-2 div.sk-toggleable {background-color: white;}#sk-container-id-2 label.sk-toggleable__label {cursor: pointer;display: block;width: 100%;margin-bottom: 0;padding: 0.3em;box-sizing: border-box;text-align: center;}#sk-container-id-2 label.sk-toggleable__label-arrow:before {content: \"▸\";float: left;margin-right: 0.25em;color: #696969;}#sk-container-id-2 label.sk-toggleable__label-arrow:hover:before {color: black;}#sk-container-id-2 div.sk-estimator:hover label.sk-toggleable__label-arrow:before {color: black;}#sk-container-id-2 div.sk-toggleable__content {max-height: 0;max-width: 0;overflow: hidden;text-align: left;background-color: #f0f8ff;}#sk-container-id-2 div.sk-toggleable__content pre {margin: 0.2em;color: black;border-radius: 0.25em;background-color: #f0f8ff;}#sk-container-id-2 input.sk-toggleable__control:checked~div.sk-toggleable__content {max-height: 200px;max-width: 100%;overflow: auto;}#sk-container-id-2 input.sk-toggleable__control:checked~label.sk-toggleable__label-arrow:before {content: \"▾\";}#sk-container-id-2 div.sk-estimator input.sk-toggleable__control:checked~label.sk-toggleable__label {background-color: #d4ebff;}#sk-container-id-2 div.sk-label input.sk-toggleable__control:checked~label.sk-toggleable__label {background-color: #d4ebff;}#sk-container-id-2 input.sk-hidden--visually {border: 0;clip: rect(1px 1px 1px 1px);clip: rect(1px, 1px, 1px, 1px);height: 1px;margin: -1px;overflow: hidden;padding: 0;position: absolute;width: 1px;}#sk-container-id-2 div.sk-estimator {font-family: monospace;background-color: #f0f8ff;border: 1px dotted black;border-radius: 0.25em;box-sizing: border-box;margin-bottom: 0.5em;}#sk-container-id-2 div.sk-estimator:hover {background-color: #d4ebff;}#sk-container-id-2 div.sk-parallel-item::after {content: \"\";width: 100%;border-bottom: 1px solid gray;flex-grow: 1;}#sk-container-id-2 div.sk-label:hover label.sk-toggleable__label {background-color: #d4ebff;}#sk-container-id-2 div.sk-serial::before {content: \"\";position: absolute;border-left: 1px solid gray;box-sizing: border-box;top: 0;bottom: 0;left: 50%;z-index: 0;}#sk-container-id-2 div.sk-serial {display: flex;flex-direction: column;align-items: center;background-color: white;padding-right: 0.2em;padding-left: 0.2em;position: relative;}#sk-container-id-2 div.sk-item {position: relative;z-index: 1;}#sk-container-id-2 div.sk-parallel {display: flex;align-items: stretch;justify-content: center;background-color: white;position: relative;}#sk-container-id-2 div.sk-item::before, #sk-container-id-2 div.sk-parallel-item::before {content: \"\";position: absolute;border-left: 1px solid gray;box-sizing: border-box;top: 0;bottom: 0;left: 50%;z-index: -1;}#sk-container-id-2 div.sk-parallel-item {display: flex;flex-direction: column;z-index: 1;position: relative;background-color: white;}#sk-container-id-2 div.sk-parallel-item:first-child::after {align-self: flex-end;width: 50%;}#sk-container-id-2 div.sk-parallel-item:last-child::after {align-self: flex-start;width: 50%;}#sk-container-id-2 div.sk-parallel-item:only-child::after {width: 0;}#sk-container-id-2 div.sk-dashed-wrapped {border: 1px dashed gray;margin: 0 0.4em 0.5em 0.4em;box-sizing: border-box;padding-bottom: 0.4em;background-color: white;}#sk-container-id-2 div.sk-label label {font-family: monospace;font-weight: bold;display: inline-block;line-height: 1.2em;}#sk-container-id-2 div.sk-label-container {text-align: center;}#sk-container-id-2 div.sk-container {/* jupyter's `normalize.less` sets `[hidden] { display: none; }` but bootstrap.min.css set `[hidden] { display: none !important; }` so we also need the `!important` here to be able to override the default hidden behavior on the sphinx rendered scikit-learn.org. See: https://github.com/scikit-learn/scikit-learn/issues/21755 */display: inline-block !important;position: relative;}#sk-container-id-2 div.sk-text-repr-fallback {display: none;}</style><div id=\"sk-container-id-2\" class=\"sk-top-container\"><div class=\"sk-text-repr-fallback\"><pre>LinearRegression()</pre><b>In a Jupyter environment, please rerun this cell to show the HTML representation or trust the notebook. <br />On GitHub, the HTML representation is unable to render, please try loading this page with nbviewer.org.</b></div><div class=\"sk-container\" hidden><div class=\"sk-item\"><div class=\"sk-estimator sk-toggleable\"><input class=\"sk-toggleable__control sk-hidden--visually\" id=\"sk-estimator-id-2\" type=\"checkbox\" checked><label for=\"sk-estimator-id-2\" class=\"sk-toggleable__label sk-toggleable__label-arrow\">LinearRegression</label><div class=\"sk-toggleable__content\"><pre>LinearRegression()</pre></div></div></div></div></div>"
      ],
      "text/plain": [
       "LinearRegression()"
      ]
     },
     "execution_count": 66,
     "metadata": {},
     "output_type": "execute_result"
    }
   ],
   "source": [
    "# Your code \n",
    "\n",
    "# create an instance of linear regression\n",
    "linreg = LinearRegression()\n",
    "\n",
    "# fit the model to X_train and y_train\n",
    "linreg.fit(X_train,y_train)"
   ]
  },
  {
   "cell_type": "markdown",
   "metadata": {},
   "source": [
    "Use the model to make predictions on both the training and test sets: "
   ]
  },
  {
   "cell_type": "code",
   "execution_count": 67,
   "metadata": {},
   "outputs": [],
   "source": [
    "# Training set predictions\n",
    "lm_train_predictions = linreg.predict(X_train)\n",
    "\n",
    "# Test set predictions \n",
    "lm_test_predictions = linreg.predict(X_test)"
   ]
  },
  {
   "cell_type": "markdown",
   "metadata": {},
   "source": [
    "Plot predictions for the training set against the actual data: "
   ]
  },
  {
   "cell_type": "code",
   "execution_count": 68,
   "metadata": {},
   "outputs": [
    {
     "data": {
      "image/png": "[encoded data removed]",
      "text/plain": [
       "<Figure size 800x500 with 1 Axes>"
      ]
     },
     "metadata": {},
     "output_type": "display_data"
    }
   ],
   "source": [
    "# Run this cell - vertical distance between the points and the line denote the errors\n",
    "plt.figure(figsize=(8, 5))\n",
    "plt.scatter(y_train, lm_train_predictions, label='Model')\n",
    "plt.plot(y_train, y_train, label='Actual data')\n",
    "plt.title('Model vs data for training set')\n",
    "plt.legend();"
   ]
  },
  {
   "cell_type": "markdown",
   "metadata": {},
   "source": [
    "Plot predictions for the test set against the actual data: "
   ]
  },
  {
   "cell_type": "code",
   "execution_count": 69,
   "metadata": {},
   "outputs": [
    {
     "data": {
      "image/png": "[encoded data removed]",
      "text/plain": [
       "<Figure size 800x500 with 1 Axes>"
      ]
     },
     "metadata": {},
     "output_type": "display_data"
    }
   ],
   "source": [
    "# Run this cell - vertical distance between the points and the line denote the errors\n",
    "plt.figure(figsize=(8, 5))\n",
    "plt.scatter(y_test, lm_test_predictions, label='Model')\n",
    "plt.plot(y_test, y_test, label='Actual data')\n",
    "plt.title('Model vs data for test set')\n",
    "plt.legend();"
   ]
  },
  {
   "cell_type": "markdown",
   "metadata": {},
   "source": [
    "## Bias\n",
    "\n",
    "Create a function `bias()` to calculate the bias of a model's predictions given the actual data: $Bias(\\hat{f}(x)) = E[\\hat{f}(x)-f(x)]$   \n",
    "(The expected value can simply be taken as the mean or average value.)  "
   ]
  },
  {
   "cell_type": "code",
   "execution_count": 70,
   "metadata": {},
   "outputs": [],
   "source": [
    "import numpy as np\n",
    "def bias(y, y_hat):\n",
    "    \"\"\"\n",
    "    Calculate the bias of a model's predictions.\n",
    "\n",
    "    Parameters:\n",
    "    y (array-like): Actual values.\n",
    "    y_hat (array-like): Predicted values by the model.\n",
    "\n",
    "    Returns:\n",
    "    float: The bias of the model's predictions.\n",
    "    \"\"\"\n",
    "    \n",
    "    # Calculate the mean of the predictions\n",
    "    mean_y_hat = np.mean(y_hat)\n",
    "    \n",
    "    # Calculate the bias as the difference between the mean predictions and the mean actual values\n",
    "    bias_value = np.mean(mean_y_hat - y)\n",
    "    \n",
    "    return bias_value\n",
    "    \n",
    "\n"
   ]
  },
  {
   "cell_type": "markdown",
   "metadata": {},
   "source": [
    "## Variance\n",
    "Create a function `variance()` to calculate the variance of a model's predictions: $Var(\\hat{f}(x)) = E[\\hat{f}(x)^2] - \\big(E[\\hat{f}(x)]\\big)^2$"
   ]
  },
  {
   "cell_type": "code",
   "execution_count": 71,
   "metadata": {},
   "outputs": [],
   "source": [
    "def variance(y_hat):\n",
    "    #get the mean of y_hat values\n",
    "    mean_y_hat = np.mean(y_hat)\n",
    "    #get the variance\n",
    "    variance_value = np.mean((mean_y_hat- y_hat)**2)\n",
    "    return variance_value"
   ]
  },
  {
   "cell_type": "markdown",
   "metadata": {},
   "source": [
    "## Calculate bias and variance"
   ]
  },
  {
   "cell_type": "code",
   "execution_count": 72,
   "metadata": {},
   "outputs": [
    {
     "name": "stdout",
     "output_type": "stream",
     "text": [
      "Train bias: -5.418604070490057e-09 \n",
      "Train variance: 3406811040989558.0\n"
     ]
    }
   ],
   "source": [
    "# Bias and variance for training set \n",
    "b = bias(y_train,lm_train_predictions)\n",
    "v = variance(lm_train_predictions)\n",
    "print(f'Train bias: {b} \\nTrain variance: {v}')\n",
    "\n",
    "# Train bias (approximate): -4.063953052867542e-09 \n",
    "# Train variance (approximate): 3406811040986517.0"
   ]
  },
  {
   "cell_type": "code",
   "execution_count": 83,
   "metadata": {},
   "outputs": [
    {
     "name": "stdout",
     "output_type": "stream",
     "text": [
      "Test bias: -10982393.918039467 \n",
      "Test variance: 1518678846124872.0\n"
     ]
    }
   ],
   "source": [
    "# Bias and variance for test set \n",
    "b = bias(y_test,lm_test_predictions)\n",
    "v = variance(lm_test_predictions)\n",
    "print(f'Test bias: {b} \\nTest variance: {v}')\n",
    "\n",
    "# Test bias: -10982393.918069275 \n",
    "# Test variance: 1518678846127932.0"
   ]
  },
  {
   "cell_type": "markdown",
   "metadata": {},
   "source": [
    "## Overfit a new model "
   ]
  },
  {
   "cell_type": "markdown",
   "metadata": {},
   "source": [
    "Use `PolynomialFeatures` with degree 3 and transform `X_train_scaled` and `X_test_scaled`. \n",
    "\n",
    "**Important note:** By including this, you don't only take polynomials of single variables, but you also combine variables, eg:\n",
    "\n",
    "*Budget* times *MetaScore* squared\n",
    "\n",
    "What you're essentially doing is taking interactions and creating polynomials at the same time! Have a look at how many columns we get using `np.shape()`! \n"
   ]
  },
  {
   "cell_type": "code",
   "execution_count": 91,
   "metadata": {},
   "outputs": [],
   "source": [
    "# Your code here\n",
    "poly = PolynomialFeatures(degree = 3)\n",
    "\n",
    "X_train_poly = poly.fit_transform(X_train_scaled)\n",
    "X_test_poly = poly.fit_transform(X_test_scaled)"
   ]
  },
  {
   "cell_type": "code",
   "execution_count": 92,
   "metadata": {},
   "outputs": [
    {
     "name": "stdout",
     "output_type": "stream",
     "text": [
      "(22, 35)\n",
      "(8, 35)\n"
     ]
    }
   ],
   "source": [
    "# Check the shape\n",
    "print(X_train_poly.shape)\n",
    "print(X_test_poly.shape)"
   ]
  },
  {
   "cell_type": "markdown",
   "metadata": {},
   "source": [
    "Fit a regression model to the training data: "
   ]
  },
  {
   "cell_type": "code",
   "execution_count": 93,
   "metadata": {},
   "outputs": [],
   "source": [
    "# Your code here\n",
    "polyreg = LinearRegression()\n"
   ]
  },
  {
   "cell_type": "markdown",
   "metadata": {},
   "source": [
    "Use the model to make predictions on both the training and test sets: "
   ]
  },
  {
   "cell_type": "code",
   "execution_count": 99,
   "metadata": {},
   "outputs": [],
   "source": [
    "# Training set predictions\n",
    "polyreg.fit(X_train_poly,y_train)\n",
    "poly_train_predictions = polyreg.predict(X_train_poly)\n",
    "\n",
    "# Test set predictions\n",
    "polyreg.fit(X_test_poly,y_test)\n",
    "poly_test_predictions = polyreg.predict(X_test_poly)"
   ]
  },
  {
   "cell_type": "markdown",
   "metadata": {},
   "source": [
    "Plot predictions for the training set against the actual data: "
   ]
  },
  {
   "cell_type": "code",
   "execution_count": 100,
   "metadata": {},
   "outputs": [
    {
     "data": {
      "image/png": "[encoded data removed]",
      "text/plain": [
       "<Figure size 800x500 with 1 Axes>"
      ]
     },
     "metadata": {},
     "output_type": "display_data"
    }
   ],
   "source": [
    "# Run this cell - vertical distance between the points and the line denote the errors\n",
    "plt.figure(figsize=(8, 5))\n",
    "plt.scatter(y_train, poly_train_predictions, label='Model')\n",
    "plt.plot(y_train, y_train, label='Actual data')\n",
    "plt.title('Model vs data for training set')\n",
    "plt.legend();"
   ]
  },
  {
   "cell_type": "markdown",
   "metadata": {},
   "source": [
    "Plot predictions for the test set against the actual data: "
   ]
  },
  {
   "cell_type": "code",
   "execution_count": 101,
   "metadata": {},
   "outputs": [
    {
     "data": {
      "image/png": "[encoded data removed]",
      "text/plain": [
       "<Figure size 800x500 with 1 Axes>"
      ]
     },
     "metadata": {},
     "output_type": "display_data"
    }
   ],
   "source": [
    "# Run this cell - vertical distance between the points and the line denote the errors\n",
    "plt.figure(figsize=(8, 5))\n",
    "plt.scatter(y_test, poly_test_predictions, label='Model')\n",
    "plt.plot(y_test, y_test, label='Actual data')\n",
    "plt.title('Model vs data for test set')\n",
    "plt.legend();"
   ]
  },
  {
   "cell_type": "markdown",
   "metadata": {},
   "source": [
    "Calculate the bias and variance for the training set: "
   ]
  },
  {
   "cell_type": "code",
   "execution_count": 102,
   "metadata": {},
   "outputs": [
    {
     "name": "stdout",
     "output_type": "stream",
     "text": [
      "Train bias: -6.326220252297141e-07 \n",
      "Train variance: 7394168636697491.0\n"
     ]
    }
   ],
   "source": [
    "# Bias and variance for training set \n",
    "b = bias(y_train,poly_train_predictions)\n",
    "v = variance(y_train)\n",
    "print('Train bias: {} \\nTrain variance: {}'.format(b, v))\n",
    "\n",
    "# Train bias (approximate): -2.0997090773148971e-07\n",
    "# Train variance (approximate): 7394168636697528.0"
   ]
  },
  {
   "cell_type": "markdown",
   "metadata": {},
   "source": [
    "Calculate the bias and variance for the test set: "
   ]
  },
  {
   "cell_type": "code",
   "execution_count": 103,
   "metadata": {},
   "outputs": [
    {
     "name": "stdout",
     "output_type": "stream",
     "text": [
      "Test bias: 0.0 \n",
      "Test variance: 1.185321190941615e+16\n"
     ]
    }
   ],
   "source": [
    "# Bias and variance for test set \n",
    "b = bias(y_test, poly_test_predictions)\n",
    "v = variance(y_test)\n",
    "print('Test bias: {} \\nTest variance: {}'.format(b, v))\n",
    "\n",
    "# Test bias: -68166032.47666144 \n",
    "# Test variance: 4.798244829435879e+16"
   ]
  },
  {
   "cell_type": "markdown",
   "metadata": {},
   "source": [
    "## Interpret the overfit model"
   ]
  },
  {
   "cell_type": "code",
   "execution_count": 105,
   "metadata": {},
   "outputs": [
    {
     "data": {
      "text/plain": [
       "'\\nCompared to the simple linear regression model, the polynomial regressiol model:\\n1.In train model: The biasness in polynomial regression has increased by 1 compared to simple linear regression and the test variance has also increased to \\n7 from 3.\\n2. In test model: The biasness in polynomial regression has decreased significantly to 0 but  the test variance has increased significantly to power of \\n+16. This indicates high levels of overfitting.\\n'"
      ]
     },
     "execution_count": 105,
     "metadata": {},
     "output_type": "execute_result"
    }
   ],
   "source": [
    "# Your description here\n",
    "\"\"\"\n",
    "Compared to the simple linear regression model, the polynomial regressiol model:\n",
    "1.In train model: The biasness in polynomial regression has increased by 1 compared to simple linear regression and the test variance has also increased to \n",
    "7 from 3.\n",
    "2. In test model: The biasness in polynomial regression has decreased significantly to 0 but  the test variance has increased significantly to power of \n",
    "+16. This indicates high levels of overfitting.\n",
    "\"\"\""
   ]
  },
  {
   "cell_type": "markdown",
   "metadata": {},
   "source": [
    "## Level Up (Optional)"
   ]
  },
  {
   "cell_type": "markdown",
   "metadata": {},
   "source": [
    "In this lab we went from 4 predictors to 35 by adding polynomials and interactions, using `PolynomialFeatures`. That being said, where 35 leads to overfitting, there are probably ways to improve by adding just a few polynomials. Feel free to experiment and see how bias and variance improve!"
   ]
  },
  {
   "cell_type": "markdown",
   "metadata": {},
   "source": [
    "## Summary"
   ]
  },
  {
   "cell_type": "markdown",
   "metadata": {},
   "source": [
    "This lab gave you insight into how bias and variance change for a training and a test set by using both simple and complex models. "
   ]
  }
 ],
 "metadata": {
  "kernelspec": {
   "display_name": "Python 3 (ipykernel)",
   "language": "python",
   "name": "python3"
  },
  "language_info": {
   "codemirror_mode": {
    "name": "ipython",
    "version": 3
   },
   "file_extension": ".py",
   "mimetype": "text/x-python",
   "name": "python",
   "nbconvert_exporter": "python",
   "pygments_lexer": "ipython3",
   "version": "3.9.0"
  }
 },
 "nbformat": 4,
 "nbformat_minor": 4
}
